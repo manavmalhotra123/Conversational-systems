{
  "nbformat": 4,
  "nbformat_minor": 0,
  "metadata": {
    "colab": {
      "provenance": []
    },
    "kernelspec": {
      "name": "python3",
      "display_name": "Python 3"
    },
    "language_info": {
      "name": "python"
    }
  },
  "cells": [
    {
      "cell_type": "code",
      "execution_count": null,
      "metadata": {
        "id": "I29D16dEvBq0"
      },
      "outputs": [],
      "source": []
    },
    {
      "cell_type": "markdown",
      "source": [
        "Assignment 1\n",
        "\n"
      ],
      "metadata": {
        "id": "Ax6FoOMZvDYA"
      }
    },
    {
      "cell_type": "code",
      "source": [
        "# Question1\n",
        "\n",
        "a = int(input(\"Enter the value of first number \"))\n",
        "b = int(input(\"Enter the value of second number \"))\n",
        "\n",
        "print(f\"{a+b}\")"
      ],
      "metadata": {
        "id": "2ahnMqjUvJWU"
      },
      "execution_count": null,
      "outputs": []
    },
    {
      "cell_type": "code",
      "source": [
        "# Question2\n",
        "\n",
        "def compute_income_tax(gross_income, num_dependents):\n",
        "    # Tax laws\n",
        "    tax_rate = 0.20\n",
        "    standard_deduction = 10000\n",
        "    dependent_deduction = 3000\n",
        "\n",
        "    # Calculate taxable income\n",
        "    taxable_income = gross_income - standard_deduction - (num_dependents * dependent_deduction)\n",
        "\n",
        "    # Calculate tax\n",
        "    tax = taxable_income * tax_rate\n",
        "\n",
        "    return tax\n",
        "\n",
        "# Get input from the user\n",
        "try:\n",
        "    gross_income = float(input(\"Enter your gross income to the nearest penny: \"))\n",
        "    num_dependents = int(input(\"Enter the number of dependents: \"))\n",
        "\n",
        "    # Compute and display income tax\n",
        "    income_tax = compute_income_tax(gross_income, num_dependents)\n",
        "    print(f\"Your income tax is: ${income_tax:.2f}\")\n",
        "\n",
        "except ValueError:\n",
        "    print(\"Invalid input. Please enter valid numeric values.\")\n"
      ],
      "metadata": {
        "id": "0h5ISf3dvMvY"
      },
      "execution_count": null,
      "outputs": []
    },
    {
      "cell_type": "code",
      "source": [
        "# question 3\n",
        "def main():\n",
        "    # Student information\n",
        "    SID = 12345\n",
        "    name = \"John Doe\"\n",
        "    gender = 'M'\n",
        "    course_name = \"Computer Science\"\n",
        "    cgpa = 9.2\n",
        "\n",
        "    # Create a list to store the student information\n",
        "    student_info = [SID, name, gender, course_name, cgpa]\n",
        "\n",
        "    # Print the student information\n",
        "    print(\"Student Information:\")\n",
        "    print(\"SID:\", student_info[0])\n",
        "    print(\"Name:\", student_info[1])\n",
        "    print(\"Gender:\", student_info[2])\n",
        "    print(\"Course Name:\", student_info[3])\n",
        "    print(\"CGPA:\", student_info[4])\n",
        "\n",
        "if __name__ == \"__main__\":\n",
        "    main()\n"
      ],
      "metadata": {
        "id": "wTx1Hm1KvQjb"
      },
      "execution_count": null,
      "outputs": []
    },
    {
      "cell_type": "code",
      "source": [
        "# question 4\n",
        "\n",
        "def get_student_info():\n",
        "    sid = int(input(\"Enter Student ID: \"))\n",
        "    name = input(\"Enter Name: \")\n",
        "    gender = input(\"Enter Gender (F/M/U for Unknown): \").upper()\n",
        "    course_name = input(\"Enter Course Name: \")\n",
        "    cgpa = float(input(\"Enter CGPA: \"))\n",
        "    return [sid, name, gender, course_name, cgpa]\n",
        "\n",
        "def display_student_info(student_list):\n",
        "    print(\"\\nStudent Information:\")\n",
        "    print(f\"Student ID: {student_list[0]}\")\n",
        "    print(f\"Name: {student_list[1]}\")\n",
        "    print(f\"Gender: {student_list[2]}\")\n",
        "    print(f\"Course Name: {student_list[3]}\")\n",
        "    print(f\"CGPA: {student_list[4]}\")\n",
        "\n",
        "def main():\n",
        "    students = []\n",
        "    num_students = int(input(\"Enter the number of students: \"))\n",
        "\n",
        "    for i in range(num_students):\n",
        "        print(f\"\\nEnter details for Student {i + 1}:\")\n",
        "        student_info = get_student_info()\n",
        "        students.append(student_info)\n",
        "\n",
        "    print(\"\\nStudent details stored successfully.\")\n",
        "\n",
        "    for student in students:\n",
        "        display_student_info(student)\n",
        "\n",
        "if __name__ == \"__main__\":\n",
        "    main()\n"
      ],
      "metadata": {
        "id": "ypH2gfg9vbRh"
      },
      "execution_count": null,
      "outputs": []
    },
    {
      "cell_type": "code",
      "source": [
        "# question 5\n",
        "\n",
        "def main():\n",
        "    num_students = 5\n",
        "    marks = []\n",
        "\n",
        "    # Input marks for each student\n",
        "    for i in range(num_students):\n",
        "        while True:\n",
        "            try:\n",
        "                mark = float(input(f\"Enter marks for Student {i + 1}: \"))\n",
        "                break\n",
        "            except ValueError:\n",
        "                print(\"Invalid input. Please enter a valid numeric value.\")\n",
        "\n",
        "        marks.append(mark)\n",
        "\n",
        "    # Sort the marks in ascending order\n",
        "    marks.sort()\n",
        "\n",
        "    # Display the sorted marks\n",
        "    print(\"\\nSorted Marks:\")\n",
        "    for i, mark in enumerate(marks):\n",
        "        print(f\"Student {i + 1}: {mark}\")\n",
        "\n",
        "if __name__ == \"__main__\":\n",
        "    main()\n"
      ],
      "metadata": {
        "id": "Qf5CtgysvePy"
      },
      "execution_count": null,
      "outputs": []
    },
    {
      "cell_type": "code",
      "source": [
        "# Question 6\n",
        "\n",
        "def main():\n",
        "    # Student information\n",
        "    SID = 12345\n",
        "    name = \"John Doe\"\n",
        "    gender = 'M'\n",
        "    course_name = \"Computer Science\"\n",
        "    cgpa = 9.2\n",
        "\n",
        "    # Create a list to store the student information\n",
        "    student_info = [SID, name, gender, course_name, cgpa]\n",
        "\n",
        "    # Print the student information\n",
        "    print(\"Student Information:\")\n",
        "    print(\"SID:\", student_info[0])\n",
        "    print(\"Name:\", student_info[1])\n",
        "    print(\"Gender:\", student_info[2])\n",
        "    print(\"Course Name:\", student_info[3])\n",
        "    print(\"CGPA:\", student_info[4])\n",
        "\n",
        "if __name__ == \"__main__\":\n",
        "    main()\n"
      ],
      "metadata": {
        "id": "PJKqwfORviSU"
      },
      "execution_count": null,
      "outputs": []
    }
  ]
}