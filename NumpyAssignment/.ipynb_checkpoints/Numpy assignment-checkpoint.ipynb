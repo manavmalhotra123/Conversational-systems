{
 "cells": [
  {
   "cell_type": "markdown",
   "id": "e591daf4",
   "metadata": {},
   "source": [
    "## Numpy Assignments"
   ]
  },
  {
   "cell_type": "code",
   "execution_count": 2,
   "id": "4890bbb0",
   "metadata": {},
   "outputs": [],
   "source": [
    "import numpy as np"
   ]
  },
  {
   "cell_type": "code",
   "execution_count": 3,
   "id": "7cf6ae17",
   "metadata": {},
   "outputs": [
    {
     "name": "stdout",
     "output_type": "stream",
     "text": [
      "[1 2 3 4 5]\n",
      "[5 4 3 2 1]\n"
     ]
    }
   ],
   "source": [
    "# Question 1 \n",
    "# (a)\n",
    "arr = np.array([1, 2, 3, 4, 5])\n",
    "print(arr)\n",
    "reversed = np.flip(arr)\n",
    "print(reversed)"
   ]
  },
  {
   "cell_type": "code",
   "execution_count": 8,
   "id": "bc49126b",
   "metadata": {},
   "outputs": [
    {
     "name": "stdout",
     "output_type": "stream",
     "text": [
      "Original Array:\n",
      "[[1 2 2]\n",
      " [2 4 5]\n",
      " [5 4 3]]\n",
      "flatten array : [1 2 2 2 4 5 5 4 3]\n",
      "flatten array : [1 2 2 2 4 5 5 4 3]\n"
     ]
    }
   ],
   "source": [
    "# Question 1 (b)\n",
    "array1 = np.array([[1,2,2],[2,4,5],[5,4,3]])\n",
    "print(f\"Original Array:\")\n",
    "print(f\"{array1}\")\n",
    "\n",
    "flat = array1.flatten()\n",
    "print(f\"flatten array : {flat}\")\n",
    "\n",
    "ravel = array1.ravel()\n",
    "print(f\"flatten array : {ravel}\")\n"
   ]
  },
  {
   "cell_type": "code",
   "execution_count": 9,
   "id": "ce3de103",
   "metadata": {},
   "outputs": [
    {
     "name": "stdout",
     "output_type": "stream",
     "text": [
      "(c) Array Comparison Result: False\n"
     ]
    }
   ],
   "source": [
    "# Question 1 (c) \n",
    "one = np.array([1,2,3,4,5,1,2,1,1,1])\n",
    "two = np.array([1,1,1,2,3,4,2,4,3,3])\n",
    "comparison_result = np.array_equal(one,two)\n",
    "print(\"(c) Array Comparison Result:\", comparison_result)"
   ]
  },
  {
   "cell_type": "code",
   "execution_count": 10,
   "id": "9b3869c0",
   "metadata": {},
   "outputs": [
    {
     "name": "stdout",
     "output_type": "stream",
     "text": [
      "Most Frequent Value in x: 1\n",
      "Indices of Most Frequent Value in x: [0 5 7 8 9]\n",
      "Most Frequent Value in y: 1\n",
      "Indices of Most Frequent Value in y: [0 1 2]\n"
     ]
    }
   ],
   "source": [
    "# Question 1 (d)\n",
    "x = np.array([1, 2, 3, 4, 5, 1, 2, 1, 1, 1])\n",
    "y = np.array([1, 1, 1, 2, 3, 4, 2, 4, 3, 3])\n",
    "\n",
    "most_frequent_value_x = np.bincount(x).argmax()\n",
    "indices_most_frequent_x = np.where(x == most_frequent_value_x)[0]\n",
    "\n",
    "most_frequent_value_y = np.bincount(y).argmax()\n",
    "indices_most_frequent_y = np.where(y == most_frequent_value_y)[0]\n",
    "\n",
    "print(\"Most Frequent Value in x:\", most_frequent_value_x)\n",
    "print(\"Indices of Most Frequent Value in x:\", indices_most_frequent_x)\n",
    "print(\"Most Frequent Value in y:\", most_frequent_value_y)\n",
    "print(\"Indices of Most Frequent Value in y:\", indices_most_frequent_y)\n"
   ]
  },
  {
   "cell_type": "code",
   "execution_count": 15,
   "id": "898caca8",
   "metadata": {},
   "outputs": [
    {
     "name": "stdout",
     "output_type": "stream",
     "text": [
      "Sum of all elements: 45\n",
      "Sum of all elements row-wise: [[14]\n",
      " [16]\n",
      " [15]]\n",
      "Sum of all elements column-wise: [[20  9 16]]\n"
     ]
    }
   ],
   "source": [
    "# Question1 (e)\n",
    "gfg = np.matrix('[[4, 1, 9]; [12, 3, 1]; [4, 5, 6]]')\n",
    "\n",
    "sum_of_all_elements = np.sum(gfg)\n",
    "sum_row_wise = np.sum(gfg, axis=1)\n",
    "sum_column_wise = np.sum(gfg, axis=0)\n",
    "\n",
    "print(\"Sum of all elements:\", sum_of_all_elements)\n",
    "print(\"Sum of all elements row-wise:\", sum_row_wise)\n",
    "print(\"Sum of all elements column-wise:\", sum_column_wise)"
   ]
  },
  {
   "cell_type": "code",
   "execution_count": 23,
   "id": "0d37c653",
   "metadata": {},
   "outputs": [
    {
     "name": "stdout",
     "output_type": "stream",
     "text": [
      "Sum of all diagonal elements are \n",
      "176\n",
      "Eigen values are \n",
      "[98.16835147 28.097044   49.73460452]\n",
      "Eigen vectors are \n",
      "Inverse of matrix is \n",
      "[[ 0.02404141 -0.00911212 -0.00444671]\n",
      " [-0.01667882  0.02966905  0.0024785 ]\n",
      " [ 0.00631287 -0.01603732  0.01217379]]\n",
      "determinan of matrix is 137180.0000000001\n"
     ]
    }
   ],
   "source": [
    "#Question 1 (f)\n",
    "n_array = np.array([[55, 25, 15],[30, 44, 2],[11, 45, 77]])\n",
    "\n",
    "diagonal = np.trace(n_array)\n",
    "print(\"Sum of all diagonal elements are \")\n",
    "print(diagonal)\n",
    "\n",
    "eigenval,eigenvector = np.linalg.eig(n_array)\n",
    "print(\"Eigen values are \")\n",
    "print(eigenval)\n",
    "\n",
    "print(\"Eigen vectors are \")\n",
    "inverse = np.linalg.inv(n_array)    \n",
    "\n",
    "print(\"Inverse of matrix is \")\n",
    "print(inverse)\n",
    "\n",
    "det = np.linalg.det(n_array)\n",
    "print(f\"determinan of matrix is {det}\")\n",
    "\n"
   ]
  },
  {
   "cell_type": "code",
   "execution_count": 28,
   "id": "577a8e7c",
   "metadata": {},
   "outputs": [
    {
     "name": "stdout",
     "output_type": "stream",
     "text": [
      "1.0\n",
      "0.23333333333333336\n"
     ]
    }
   ],
   "source": [
    "# Question 1 (g) \n",
    "\n",
    "#part (i)\n",
    "p = np.array([[1, 2], [2, 3]])\n",
    "q = np.array([[4, 5], [6, 7]])\n",
    "result_g_i = np.matmul(p, q)\n",
    "covariance_g_i = np.cov(p.flatten(), q.flatten())[0][1]\n",
    "print(covariance_g_i)\n",
    "\n",
    "# part (ii)\n",
    "p = np.array([[1, 2], [2, 3], [4, 5]])\n",
    "q = np.array([[4, 5, 1], [6, 7, 2]])\n",
    "result_g_ii = np.matmul(p, q)\n",
    "covariance_g_ii = np.cov(p.flatten(), q.flatten())[0][1]\n",
    "print(covariance_g_ii)"
   ]
  },
  {
   "cell_type": "code",
   "execution_count": 36,
   "id": "c886c5fb",
   "metadata": {},
   "outputs": [
    {
     "name": "stdout",
     "output_type": "stream",
     "text": [
      "Inner Product is:\n",
      "[[17 52]\n",
      " [13 62]]\n",
      "Outer Product is:\n",
      "[[ 2 10  0 10 20  6]\n",
      " [ 3 15  0 15 30  9]\n",
      " [ 4 20  0 20 40 12]\n",
      " [ 3 15  0 15 30  9]\n",
      " [ 2 10  0 10 20  6]\n",
      " [ 9 45  0 45 90 27]]\n"
     ]
    }
   ],
   "source": [
    "# Question1 (h)\n",
    "x = np.array([[2,3,4],[3,2,9]])\n",
    "y = np.array([[1,5,0],[5,10,3]])\n",
    "\n",
    "print(f'''Inner Product is:\n",
    "{np.inner(x,y)}''')\n",
    "\n",
    "\n",
    "print(f'''Outer Product is:\n",
    "{np.outer(x,y)}''')\n"
   ]
  },
  {
   "cell_type": "code",
   "execution_count": 40,
   "id": "01d98e60",
   "metadata": {},
   "outputs": [
    {
     "name": "stdout",
     "output_type": "stream",
     "text": [
      "Absolute value of each element in an array is\n",
      "[[1 2 3]\n",
      " [4 5 5]]\n",
      "\n",
      "(a.ii) Percentiles (columns):\n",
      " [[-2.75 -4.25 -3.  ]\n",
      " [-1.5  -3.5  -1.  ]\n",
      " [-0.25 -2.75  1.  ]]\n",
      "(a.ii) Percentiles (rows):\n",
      " [[-0.5 -5. ]\n",
      " [ 1.  -5. ]\n",
      " [ 2.  -4.5]]\n",
      "(a.iii) Mean (flattened array): -2.0\n",
      "(a.iii) Mean (columns):\n",
      " [-1.5 -3.5 -1. ]\n",
      "(a.iii) Mean (rows):\n",
      " [ 0.66666667 -4.66666667]\n",
      "(a.iii) Median (flattened array): -3.0\n",
      "(a.iii) Median (columns):\n",
      " [-1.5 -3.5 -1. ]\n",
      "(a.iii) Median (rows):\n",
      " [ 1. -5.]\n",
      "(a.iii) Standard Deviation (flattened array): 3.0550504633038935\n",
      "(a.iii) Standard Deviation (columns):\n",
      " [2.5 1.5 4. ]\n",
      "(a.iii) Standard Deviation (rows):\n",
      " [2.05480467 0.47140452]\n"
     ]
    }
   ],
   "source": [
    "# Question 2 (a)\n",
    "arr = np.array([[1,-2,3],[-4,-5,-5]])\n",
    "\n",
    "print(f'''Absolute value of each element in an array is\n",
    "{np.abs(arr)}\n",
    "''')\n",
    "percentiles_col = np.percentile(arr, [25, 50, 75], axis=0)\n",
    "percentiles_row = np.percentile(arr, [25, 50, 75], axis=1)\n",
    "\n",
    "# iii.\n",
    "mean_flat = np.mean(arr)\n",
    "mean_col = np.mean(arr, axis=0)\n",
    "mean_row = np.mean(arr, axis=1)\n",
    "\n",
    "median_flat = np.median(arr)\n",
    "median_col = np.median(arr, axis=0)\n",
    "median_row = np.median(arr, axis=1)\n",
    "\n",
    "std_flat = np.std(arr)\n",
    "std_col = np.std(arr, axis=0)\n",
    "std_row = np.std(arr, axis=1)\n",
    "\n",
    "print(\"(a.ii) Percentiles (columns):\\n\", percentiles_col)\n",
    "print(\"(a.ii) Percentiles (rows):\\n\", percentiles_row)\n",
    "print(\"(a.iii) Mean (flattened array):\", mean_flat)\n",
    "print(\"(a.iii) Mean (columns):\\n\", mean_col)\n",
    "print(\"(a.iii) Mean (rows):\\n\", mean_row)\n",
    "print(\"(a.iii) Median (flattened array):\", median_flat)\n",
    "print(\"(a.iii) Median (columns):\\n\", median_col)\n",
    "print(\"(a.iii) Median (rows):\\n\", median_row)\n",
    "print(\"(a.iii) Standard Deviation (flattened array):\", std_flat)\n",
    "print(\"(a.iii) Standard Deviation (columns):\\n\", std_col)\n",
    "print(\"(a.iii) Standard Deviation (rows):\\n\", std_row)\n",
    "\n"
   ]
  },
  {
   "cell_type": "code",
   "execution_count": 48,
   "id": "385f0935",
   "metadata": {},
   "outputs": [
    {
     "name": "stdout",
     "output_type": "stream",
     "text": [
      "[-1.8 -1.6 -0.5  0.5  1.6  1.8  3. ]\n",
      "[-2. -2. -1.  0.  1.  1.  3.]\n",
      "[-1. -1. -0.  1.  2.  2.  3.]\n",
      "[-1. -1. -0.  0.  1.  1.  3.]\n",
      "[-2. -2. -0.  0.  2.  2.  3.]\n"
     ]
    }
   ],
   "source": [
    "# Question2 (b)\n",
    "a = np.array([-1.8, -1.6, -0.5, 0.5, 1.6, 1.8, 3.0])\n",
    "print(a)\n",
    "\n",
    "floor_values = np.floor(a)\n",
    "print(floor_values)\n",
    "\n",
    "ceil_values = np.ceil(a)\n",
    "print(ceil_values)\n",
    "\n",
    "truncate_values = np.trunc(a)\n",
    "print(truncate_values)\n",
    "\n",
    "round_values = np.round(a)\n",
    "print(round_values)"
   ]
  },
  {
   "cell_type": "code",
   "execution_count": null,
   "id": "06fbfd84",
   "metadata": {},
   "outputs": [],
   "source": []
  }
 ],
 "metadata": {
  "kernelspec": {
   "display_name": "Python 3 (ipykernel)",
   "language": "python",
   "name": "python3"
  },
  "language_info": {
   "codemirror_mode": {
    "name": "ipython",
    "version": 3
   },
   "file_extension": ".py",
   "mimetype": "text/x-python",
   "name": "python",
   "nbconvert_exporter": "python",
   "pygments_lexer": "ipython3",
   "version": "3.10.12"
  }
 },
 "nbformat": 4,
 "nbformat_minor": 5
}
